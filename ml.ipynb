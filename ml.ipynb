{
 "cells": [
  {
   "cell_type": "markdown",
   "id": "90e6ae78",
   "metadata": {},
   "source": [
    "# World Trade Regression — End-to-End Notebook"
   ]
  },
  {
   "cell_type": "markdown",
   "id": "c858add1",
   "metadata": {},
   "source": [
    "Goal: Predict export_value_usd_mln using multiple regression models, compare performance (MAE/RMSE/R²), and build ensembles (Voting & Stacking).\n",
    "\n",
    "Dataset: world_trade_synth_fast.csv (columns include year, trade pair info, quantities, prices, macro indicators).\n",
    "\n",
    "Deliverables: clean preprocessing, top models, robust evaluation, tuned models, ensemble, saved best model"
   ]
  },
  {
   "cell_type": "markdown",
   "id": "f294d0cc",
   "metadata": {},
   "source": [
    "#### Importing all necessary Libraries"
   ]
  },
  {
   "cell_type": "code",
   "execution_count": null,
   "id": "142fd35d",
   "metadata": {},
   "outputs": [],
   "source": [
    "# Core\n",
    "import pandas as pd\n",
    "import numpy as np\n",
    "\n",
    "# Visualization\n",
    "import matplotlib.pyplot as plt\n",
    "import seaborn as sns\n",
    "\n",
    "# Scikit-learn\n",
    "from sklearn.model_selection import train_test_split, cross_val_score\n",
    "from sklearn.metrics import mean_squared_error, r2_score, mean_absolute_error\n",
    "\n",
    "# Models\n",
    "from sklearn.linear_model import LinearRegression, Ridge\n",
    "from sklearn.ensemble import RandomForestRegressor, GradientBoostingRegressor, HistGradientBoostingRegressor, StackingRegressor\n",
    "from sklearn.svm import SVR\n",
    "\n",
    "# Preprocessing\n",
    "from sklearn.preprocessing import StandardScaler\n",
    "from sklearn.compose import ColumnTransformer\n",
    "from sklearn.preprocessing import OneHotEncoder, StandardScaler\n",
    "from sklearn.pipeline import Pipeline\n"
   ]
  },
  {
   "cell_type": "markdown",
   "id": "8195daf3",
   "metadata": {},
   "source": [
    "#### Loading the dataset"
   ]
  },
  {
   "cell_type": "code",
   "execution_count": null,
   "id": "cdd770b8",
   "metadata": {},
   "outputs": [],
   "source": [
    "# Replace with your dataset\n",
    "df = pd.read_csv(\"world_trade_synth_fast.csv\")\n",
    "\n",
    "print(df.shape)\n",
    "df.head()\n"
   ]
  },
  {
   "cell_type": "markdown",
   "id": "f2621c69",
   "metadata": {},
   "source": [
    "## Exploratory Data Analysis."
   ]
  },
  {
   "cell_type": "code",
   "execution_count": null,
   "id": "697345be",
   "metadata": {},
   "outputs": [],
   "source": [
    "# # 1. Scatter plot: Export Value by Quantity (color by Product)\n",
    "# plt.figure(figsize=(8, 6))\n",
    "# sns.scatterplot(data=df, x='quantity_tonnes', y='export_value_usd_mln', hue='product_code', style='fta_active')\n",
    "# plt.title(\"Export Value vs Quantity by Product and FTA\")\n",
    "# plt.tight_layout()\n",
    "# plt.show()"
   ]
  },
  {
   "cell_type": "code",
   "execution_count": null,
   "id": "88a29fdb",
   "metadata": {},
   "outputs": [],
   "source": [
    "# # 2. Distribution: Unit Price per Tonne by Product\n",
    "# plt.figure(figsize=(8, 6))\n",
    "# sns.violinplot(x='product_code', y='unit_price_usd_per_tonne', data=df, inner='quartile', palette='muted')\n",
    "# plt.title(\"Distribution of Unit Prices by Product\")\n",
    "# plt.tight_layout()\n",
    "# plt.show()"
   ]
  },
  {
   "cell_type": "code",
   "execution_count": null,
   "id": "d3ca57ec",
   "metadata": {},
   "outputs": [],
   "source": [
    "# # 3. Heatmap: Correlation Matrix (only numeric)\n",
    "# plt.figure(figsize=(10, 8))\n",
    "# sns.heatmap(df.select_dtypes('number').corr(), annot=True, cmap='coolwarm')\n",
    "# plt.title(\"Correlation Matrix\")\n",
    "# plt.tight_layout()\n",
    "# plt.show()"
   ]
  },
  {
   "cell_type": "code",
   "execution_count": null,
   "id": "d0dea088",
   "metadata": {},
   "outputs": [],
   "source": [
    "# # 4. Pairplot: Key Variables (colored by Product)\n",
    "# sns.pairplot(df, vars=['export_value_usd_mln','quantity_tonnes','unit_price_usd_per_tonne','distance_km'], hue='product_code')\n",
    "# plt.show()"
   ]
  },
  {
   "cell_type": "code",
   "execution_count": null,
   "id": "32cfdafe",
   "metadata": {},
   "outputs": [],
   "source": [
    "# 5. Boxplot: Ad Valorem Tariff Percent by Reporter\n",
    "plt.figure(figsize=(10, 6))\n",
    "sns.boxplot(x='reporter_iso3', y='adval_tariff_pct', data=df)\n",
    "plt.title('Ad Valorem Tariff Distribution by Reporter')\n",
    "plt.tight_layout()\n",
    "plt.show()"
   ]
  },
  {
   "cell_type": "code",
   "execution_count": null,
   "id": "7ae53bce",
   "metadata": {},
   "outputs": [],
   "source": [
    "# 6. Linechart: Export Value over Years by Product\n",
    "plt.figure(figsize=(10, 6))\n",
    "sns.lineplot(data=df, x='year', y='export_value_usd_mln', hue='product_code', marker='o')\n",
    "plt.title(\"Export Value over Time per Product\")\n",
    "plt.tight_layout()\n",
    "plt.show()"
   ]
  },
  {
   "cell_type": "code",
   "execution_count": null,
   "id": "32eadedd",
   "metadata": {},
   "outputs": [],
   "source": [
    "# 7. Barplot: Mean Unit Price per Reporter\n",
    "plt.figure(figsize=(10, 6))\n",
    "sns.barplot(data=df, x='reporter_iso3', y='unit_price_usd_per_tonne', estimator='mean', ci='sd')\n",
    "plt.title(\"Mean Unit Price per Reporter\")\n",
    "plt.tight_layout()\n",
    "plt.show()"
   ]
  },
  {
   "cell_type": "code",
   "execution_count": null,
   "id": "32283186",
   "metadata": {},
   "outputs": [],
   "source": [
    "# 8. Bubble Chart: Export Value vs GDP (Reporter and Partner, bubble size=Quantity)\n",
    "plt.figure(figsize=(10, 8))\n",
    "plt.scatter(df['reporter_gdp_bln'], df['partner_gdp_bln'], s=df['quantity_tonnes']/100, c=df['export_value_usd_mln'], cmap='viridis', alpha=0.7)\n",
    "plt.colorbar(label='Export Value (USD mln)')\n",
    "plt.xlabel('Reporter GDP (bln)')\n",
    "plt.ylabel('Partner GDP (bln)')\n",
    "plt.title('Export Value vs GDPs (Bubble size = Quantity)')\n",
    "plt.tight_layout()\n",
    "plt.show()"
   ]
  },
  {
   "cell_type": "code",
   "execution_count": null,
   "id": "6755e3f0",
   "metadata": {},
   "outputs": [],
   "source": [
    "# 9. KDE Plot: Distance Distribution (by Product)\n",
    "plt.figure(figsize=(10, 6))\n",
    "sns.kdeplot(data=df, x='distance_km', hue='product_code', fill=True)\n",
    "plt.title(\"Distance Distribution by Product\")\n",
    "plt.tight_layout()\n",
    "plt.show()"
   ]
  },
  {
   "cell_type": "code",
   "execution_count": null,
   "id": "d855f49f",
   "metadata": {},
   "outputs": [],
   "source": [
    "# # 10. Swarmplot: FTA Active vs Unit Price (by Product)\n",
    "# plt.figure(figsize=(10, 6))\n",
    "# sns.swarmplot(data=df, x='fta_active', y='unit_price_usd_per_tonne', hue='product_code')\n",
    "# plt.title(\"Unit Price by FTA Status and Product\")\n",
    "# plt.tight_layout()\n",
    "# plt.show()"
   ]
  },
  {
   "cell_type": "markdown",
   "id": "74d57560",
   "metadata": {},
   "source": [
    "#### Train - test split."
   ]
  },
  {
   "cell_type": "code",
   "execution_count": null,
   "id": "ac453184",
   "metadata": {},
   "outputs": [],
   "source": [
    "# Suppose 'target' is the column we want to predict\n",
    "target_col = \"export_value_usd_mln\"  # <-- replace with your column name\n",
    "X = df.drop(columns=[target_col])\n",
    "y = df[target_col]\n",
    "\n",
    "X_train, X_test, y_train, y_test = train_test_split(X, y, test_size=0.2, random_state=42)\n"
   ]
  },
  {
   "cell_type": "markdown",
   "id": "e8d55006",
   "metadata": {},
   "source": [
    "## Feature Engineering"
   ]
  },
  {
   "cell_type": "markdown",
   "id": "5016f257",
   "metadata": {},
   "source": [
    "#### Detect categorical and numerical features"
   ]
  },
  {
   "cell_type": "code",
   "execution_count": null,
   "id": "81b13ae3",
   "metadata": {},
   "outputs": [],
   "source": [
    "categorical_features = X.select_dtypes(include=[\"object\", \"category\"]).columns.tolist()\n",
    "numeric_features = X.select_dtypes(include=[\"int64\", \"float64\"]).columns.tolist()\n",
    "\n",
    "# Preprocessor: OneHot for categorical, Scale for numeric\n",
    "preprocessor = ColumnTransformer(\n",
    "    transformers=[\n",
    "        (\"num\", StandardScaler(), numeric_features),\n",
    "        (\"cat\", OneHotEncoder(handle_unknown=\"ignore\"), categorical_features),\n",
    "    ]\n",
    ")"
   ]
  },
  {
   "cell_type": "code",
   "execution_count": null,
   "id": "5c0d1045",
   "metadata": {},
   "outputs": [],
   "source": [
    "df.head()"
   ]
  },
  {
   "cell_type": "code",
   "execution_count": null,
   "id": "0b02d0ce",
   "metadata": {},
   "outputs": [],
   "source": []
  },
  {
   "cell_type": "markdown",
   "id": "a6df1a41",
   "metadata": {},
   "source": [
    "#### Defining Models"
   ]
  },
  {
   "cell_type": "code",
   "execution_count": null,
   "id": "e0d04e7c",
   "metadata": {},
   "outputs": [],
   "source": [
    "models = {\n",
    "    \"Linear Regression\": LinearRegression(),\n",
    "    \"Ridge Regression\": Ridge(),\n",
    "    \"Random Forest\": RandomForestRegressor(n_estimators=200, random_state=42),\n",
    "    \"Gradient Boosting\": GradientBoostingRegressor(n_estimators=200, random_state=42),\n",
    "    \"Hist Gradient Boosting\": HistGradientBoostingRegressor(random_state=42)\n",
    "}\n"
   ]
  },
  {
   "cell_type": "markdown",
   "id": "deaf9ec2",
   "metadata": {},
   "source": [
    "#### Train & Evaluate Models"
   ]
  },
  {
   "cell_type": "code",
   "execution_count": null,
   "id": "92ec76a3",
   "metadata": {},
   "outputs": [],
   "source": [
    "results = {}\n",
    "\n",
    "for name, model in models.items():\n",
    "    pipe = Pipeline([\n",
    "        (\"scaler\", StandardScaler(with_mean=False)),  # safe for sparse matrices\n",
    "        (\"model\", model)\n",
    "    ])\n",
    "    \n",
    "    pipe.fit(X_train, y_train)\n",
    "    y_pred = pipe.predict(X_test)\n",
    "    \n",
    "    results[name] = {\n",
    "        \"RMSE\": mean_squared_error(y_test, y_pred, squared=False),\n",
    "        \"MAE\": mean_absolute_error(y_test, y_pred),\n",
    "        \"R2\": r2_score(y_test, y_pred)\n",
    "    }\n",
    "\n",
    "results_df = pd.DataFrame(results).T\n",
    "results_df\n"
   ]
  },
  {
   "cell_type": "markdown",
   "id": "6adb205f",
   "metadata": {},
   "source": [
    "#### Visualization of Results"
   ]
  },
  {
   "cell_type": "code",
   "execution_count": null,
   "id": "5d46cfc3",
   "metadata": {},
   "outputs": [],
   "source": [
    "results_df.plot(kind=\"bar\", figsize=(10,6))\n",
    "plt.title(\"Model Comparison (Regression)\")\n",
    "plt.ylabel(\"Error / Score\")\n",
    "plt.xticks(rotation=45)\n",
    "plt.show()\n"
   ]
  },
  {
   "cell_type": "markdown",
   "id": "0efc729f",
   "metadata": {},
   "source": [
    "#### Stacking Ensemble"
   ]
  },
  {
   "cell_type": "code",
   "execution_count": null,
   "id": "1f6a2a8b",
   "metadata": {},
   "outputs": [],
   "source": [
    "estimators = [\n",
    "    ('ridge', Ridge()),\n",
    "    ('rf', RandomForestRegressor(n_estimators=200, random_state=42)),\n",
    "    ('hgb', HistGradientBoostingRegressor(random_state=42))\n",
    "]\n",
    "\n",
    "stacking_model = StackingRegressor(\n",
    "    estimators=estimators,\n",
    "    final_estimator=GradientBoostingRegressor(n_estimators=200, random_state=42)\n",
    ")\n",
    "\n",
    "stacking_model.fit(X_train, y_train)\n",
    "y_pred_stack = stacking_model.predict(X_test)\n",
    "\n",
    "stack_results = {\n",
    "    \"RMSE\": mean_squared_error(y_test, y_pred_stack, squared=False),\n",
    "    \"MAE\": mean_absolute_error(y_test, y_pred_stack),\n",
    "    \"R2\": r2_score(y_test, y_pred_stack)\n",
    "}\n",
    "\n",
    "print(\"Stacking Model Performance:\", stack_results)\n"
   ]
  },
  {
   "cell_type": "code",
   "execution_count": null,
   "id": "56743287",
   "metadata": {},
   "outputs": [],
   "source": [
    "import warnings, os, json, numpy as np, pandas as pd, matplotlib.pyplot as plt\n",
    "from pathlib import Path\n",
    "warnings.filterwarnings(\"ignore\") # keep notebook tidy\n",
    "\n",
    "RANDOM_STATE = 42\n",
    "np.random.seed(RANDOM_STATE)\n",
    "\n",
    "plt.rcParams[\"figure.figsize\"] = (7,4)\n",
    "plt.rcParams[\"figure.dpi\"] = 120\n",
    "\n",
    "DATA_PATH = \"./world_trade_synth_fast.csv\" # <-- adjust if needed\n",
    "OUTDIR = Path(\"./nb_artifacts\")\n",
    "OUTDIR.mkdir(parents=True, exist_ok=True)"
   ]
  }
 ],
 "metadata": {
  "kernelspec": {
   "display_name": "venv (3.9.13)",
   "language": "python",
   "name": "python3"
  },
  "language_info": {
   "codemirror_mode": {
    "name": "ipython",
    "version": 3
   },
   "file_extension": ".py",
   "mimetype": "text/x-python",
   "name": "python",
   "nbconvert_exporter": "python",
   "pygments_lexer": "ipython3",
   "version": "3.9.13"
  }
 },
 "nbformat": 4,
 "nbformat_minor": 5
}
